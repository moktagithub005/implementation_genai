{
 "cells": [
  {
   "cell_type": "code",
   "execution_count": 3,
   "id": "25812f31",
   "metadata": {},
   "outputs": [
    {
     "name": "stdout",
     "output_type": "stream",
     "text": [
      "[Document(metadata={'source': 'https://unisole-empower.vercel.app/', 'title': 'Unisole - Empowering Young Minds with AI-Driven Learning', 'description': 'Unisole is a digital learning platform offering expert mentorship, AI-driven projects, and career guidance to students, including those from NIT Hamirpur, to enhance their technological and intellectual skills.', 'language': 'en'}, page_content='\\n\\n\\n\\n\\n\\nUnisole - Empowering Young Minds with AI-Driven Learning\\n\\n\\n\\n\\n\\n\\n\\n\\n\\n\\n\\n\\n\\n\\n\\n\\n\\n\\n\\n\\n\\n\\n\\n\\n')]\n"
     ]
    }
   ],
   "source": [
    "from langchain_community.document_loaders import WebBaseLoader\n",
    "url=\"https://unisole-empower.vercel.app/\"\n",
    "\n",
    "loader=WebBaseLoader(web_path=[url])\n",
    "doc=loader.load()\n",
    "print(doc)\n"
   ]
  },
  {
   "cell_type": "code",
   "execution_count": 6,
   "id": "cccb332b",
   "metadata": {},
   "outputs": [
    {
     "name": "stdout",
     "output_type": "stream",
     "text": [
      "[Document(metadata={'source': 'https://unisole-empower.vercel.app/'}, page_content='')]\n"
     ]
    }
   ],
   "source": [
    "from langchain_community.document_loaders import WebBaseLoader\n",
    "import bs4\n",
    "loader=WebBaseLoader(web_path=[url],bs_kwargs=dict(parse_only=bs4.SoupStrainer(class_=(\"post-title\",\"post-content\",\"post-header\"))))\n",
    "doc=loader.load()\n",
    "print(doc)"
   ]
  },
  {
   "cell_type": "code",
   "execution_count": null,
   "id": "1ccdcf42",
   "metadata": {},
   "outputs": [],
   "source": []
  }
 ],
 "metadata": {
  "kernelspec": {
   "display_name": "lang_venv",
   "language": "python",
   "name": "python3"
  },
  "language_info": {
   "codemirror_mode": {
    "name": "ipython",
    "version": 3
   },
   "file_extension": ".py",
   "mimetype": "text/x-python",
   "name": "python",
   "nbconvert_exporter": "python",
   "pygments_lexer": "ipython3",
   "version": "3.10.16"
  }
 },
 "nbformat": 4,
 "nbformat_minor": 5
}
