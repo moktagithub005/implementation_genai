{
 "cells": [
  {
   "cell_type": "code",
   "execution_count": 2,
   "id": "b92df2cb",
   "metadata": {},
   "outputs": [],
   "source": [
    "from langchain_text_splitters import HTMLHeaderTextSplitter"
   ]
  },
  {
   "cell_type": "code",
   "execution_count": 6,
   "id": "fcb5867f",
   "metadata": {},
   "outputs": [],
   "source": [
    "url=\"https://www.langchain.com/\"\n",
    "headers_to_split=[\n",
    "    (\"h1\",\"header1\"),\n",
    "    (\"h2\",\"header2\"),\n",
    "    (\"h3\",\"header3\"),\n",
    "    (\"h4\",\"header4\")\n",
    "]\n",
    "\n",
    "html_header=HTMLHeaderTextSplitter(headers_to_split)\n",
    "final_split=html_header.split_text_from_url(url)"
   ]
  },
  {
   "cell_type": "code",
   "execution_count": 7,
   "id": "33acb23a",
   "metadata": {},
   "outputs": [
    {
     "data": {
      "text/plain": [
       "[Document(metadata={}, page_content='* {\\n  -webkit-font-smoothing: antialiased;\\n}\\n\\n.page-wrapper {\\noverflow: clip;\\n  }\\n\\n\\n\\n/* Set fluid size change for smaller breakpoints */\\n  html { font-size: 1rem; }\\n  @media screen and (max-width:1920px) and (min-width:1281px) { html { font-size: calc(0.2499999999999999rem + 0.6250000000000001vw); } }\\n  @media screen and (max-width:1280px) and (min-width:992px) { html { font-size: calc(0.41223612197028925rem + 0.4222048475371384vw); } }\\n/* video sizing */\\n\\nvideo {\\n    object-fit: fill;\\n\\t\\twidth: 100%;\\n}\\n\\n\\n\\n#retrieval-video {\\n    object-fit: cover;\\n    width: 100%;\\n}\\n\\n\\n\\n/* Set color style to inherit */\\n.inherit-color * {\\n    color: inherit;\\n}\\n\\n/* Focus state style for keyboard navigation for the focusable elements */\\n*[tabindex]:focus-visible,\\n  input[type=\"file\"]:focus-visible {\\n   outline: 0.125rem solid #4d65ff;\\n   outline-offset: 0.125rem;\\n}\\n\\n/* Get rid of top margin on first element in any rich text element */\\n.w-richtext > :not(div):first-child, .w-richtext > div:first-child > :first-child {\\n  margin-top: 0 !important;\\n}\\n\\n/* Get rid of bottom margin on last element in any rich text element */\\n.w-richtext>:last-child, .w-richtext ol li:last-child, .w-richtext ul li:last-child {\\n\\tmargin-bottom: 0 !important;\\n}\\n\\n/* Prevent all click and hover interaction with an element */\\n.pointer-events-off {\\n\\tpointer-events: none;\\n}\\n\\n/* Enables all click and hover interaction with an element */\\n.pointer-events-on {\\n  pointer-events: auto;\\n}\\n\\n/* Create a class of .div-square which maintains a 1:1 dimension of a div */\\n.div-square::after {\\n\\tcontent: \"\";\\n\\tdisplay: block;\\n\\tpadding-bottom: 100%;\\n}\\n\\n/* Make sure containers never lose their center alignment */\\n.container-medium,.container-small, .container-large {\\n\\tmargin-right: auto !important;\\n  margin-left: auto !important;\\n}\\n\\n/* \\nMake the following elements inherit typography styles from the parent and not have hardcoded values. \\nImportant: You will not be able to style for example \"All Links\" in Designer with this CSS applied.\\nUncomment this CSS to use it in the project. Leave this message for future hand-off.\\n*/\\n/*\\na,\\n.w-input,\\n.w-select,\\n.w-tab-link,\\n.w-nav-link,\\n.w-dropdown-btn,\\n.w-dropdown-toggle,\\n.w-dropdown-link {\\n  color: inherit;\\n  text-decoration: inherit;\\n  font-size: inherit;\\n}\\n*/\\n\\n/* Apply \"...\" after 3 lines of text */\\n.text-style-3lines {\\n\\tdisplay: -webkit-box;\\n\\toverflow: hidden;\\n\\t-webkit-line-clamp: 3;\\n\\t-webkit-box-orient: vertical;\\n}\\n\\n/* Apply \"...\" after 2 lines of text */\\n.text-style-2lines {\\n\\tdisplay: -webkit-box;\\n\\toverflow: hidden;\\n\\t-webkit-line-clamp: 2;\\n\\t-webkit-box-orient: vertical;\\n}\\n\\n/* Adds inline flex display */\\n.display-inlineflex {\\n  display: inline-flex;\\n}\\n\\n/* These classes are never overwritten */\\n.hide {\\n  display: none !important;\\n}\\n\\n@media screen and (max-width: 991px) {\\n    .hide, .hide-tablet {\\n        display: none !important;\\n    }\\n}\\n  @media screen and (max-width: 767px) {\\n    .hide-mobile-landscape{\\n      display: none !important;\\n    }\\n}\\n  @media screen and (max-width: 479px) {\\n    .hide-mobile{\\n      display: none !important;\\n    }\\n}\\n \\n.margin-0 {\\n  margin: 0rem !important;\\n}\\n  \\n.padding-0 {\\n  padding: 0rem !important;\\n}\\n\\n.spacing-clean {\\npadding: 0rem !important;\\nmargin: 0rem !important;\\n}\\n\\n.margin-top {\\n  margin-right: 0rem !important;\\n  margin-bottom: 0rem !important;\\n  margin-left: 0rem !important;\\n}\\n\\n.padding-top {\\n  padding-right: 0rem !important;\\n  padding-bottom: 0rem !important;\\n  padding-left: 0rem !important;\\n}\\n  \\n.margin-right {\\n  margin-top: 0rem !important;\\n  margin-bottom: 0rem !important;\\n  margin-left: 0rem !important;\\n}\\n\\n.padding-right {\\n  padding-top: 0rem !important;\\n  padding-bottom: 0rem !important;\\n  padding-left: 0rem !important;\\n}\\n\\n.margin-bottom {\\n  margin-top: 0rem !important;\\n  margin-right: 0rem !important;\\n  margin-left: 0rem !important;\\n}\\n\\n.padding-bottom {\\n  padding-top: 0rem !important;\\n  padding-right: 0rem !important;\\n  padding-left: 0rem !important;\\n}\\n\\n.margin-left {\\n  margin-top: 0rem !important;\\n  margin-right: 0rem !important;\\n  margin-bottom: 0rem !important;\\n}\\n  \\n.padding-left {\\n  padding-top: 0rem !important;\\n  padding-right: 0rem !important;\\n  padding-bottom: 0rem !important;\\n}\\n  \\n.margin-horizontal {\\n  margin-top: 0rem !important;\\n  margin-bottom: 0rem !important;\\n}\\n\\n.padding-horizontal {\\n  padding-top: 0rem !important;\\n  padding-bottom: 0rem !important;\\n}\\n\\n.margin-vertical {\\n  margin-right: 0rem !important;\\n  margin-left: 0rem !important;\\n}\\n  \\n.padding-vertical {\\n  padding-right: 0rem !important;\\n  padding-left: 0rem !important;\\n}\\n\\n/* Apply \"...\" at 100% width */\\n.truncate-width { \\n\\t\\twidth: 100%; \\n    white-space: nowrap; \\n    overflow: hidden; \\n    text-overflow: ellipsis; \\n}\\n/* Removes native scrollbar */\\n.no-scrollbar {\\n    -ms-overflow-style: none;\\n    overflow: -moz-scrollbars-none; \\n}\\n\\n.no-scrollbar::-webkit-scrollbar {\\n    display: none;\\n}\\n\\ninput:checked + span {\\ncolor: white    /* styles for the div immediately following the checked input */\\n}\\n\\n/* styles for word-wrapping\\nh1, h2, h3 {\\nword-wrap: break-word;\\nhyphens: auto;\\n}*/\\n\\n[nav-theme=\"light\"] .navbar_logo-svg {\\n\\t--nav--logo: var(--light--logo);\\n}\\n\\n[nav-theme=\"light\"] .button.is-nav {\\n\\t--nav--button-bg: var(--light--button-bg);\\n\\t--nav--button-text: var(--light--button-text);\\n}\\n\\n[nav-theme=\"light\"] .button.is-nav:hover {\\n\\t--nav--button-bg: var(--dark--button-bg);\\n\\t--nav--button-text:var(--dark--button-text);\\n}\\n\\n[nav-theme=\"dark\"] .navbar_logo-svg {\\n\\t--nav--logo: var(--dark--logo);\\n}\\n\\n[nav-theme=\"dark\"] .button.is-nav {\\n\\t--nav--button-bg: var(--dark--button-bg);\\n\\t--nav--button-text: var(--dark--button-text);\\n}\\n\\n[nav-theme=\"dark\"] .button.is-nav:hover {\\n\\t--nav--button-bg: var(--light--button-bg);\\n\\t--nav--button-text: var(--light--button-text);\\n}\\n\\n[nav-theme=\"red\"] .navbar_logo-svg {\\n\\t--nav--logo: var(--red--logo);\\n}\\n\\n\\n[nav-theme=\"red\"] .button.is-nav {\\n\\t--nav--button-bg: var(--red--button-bg);\\n\\t--nav--button-text: var(--red--button-text);\\n}\\n\\n.navbar_logo-svg.is-light, .navbar_logo-svg.is-red.is-light{\\ncolor: #F8F7FF!important;\\n}\\n\\n.news_button[disabled] {\\nbackground: none;\\n}\\n\\n.product_bg-video video {\\nobject-fit: fill;\\n}\\n.text-size-regular.toc-link-agents.w--current {\\n\\tcolor: var(--colors--green--green-400) !important;\\n}  \\nProducts  \\nFrameworks  \\nLangGraph  \\nLangChain  \\nPlatforms  \\nLangSmith  \\nLangGraph Platform  \\nResources  \\nResources Hub  \\nBlog  \\nCustomer Stories  \\nLangChain Academy  \\nCommunity  \\nExperts  \\nChangelog  \\nDocs  \\nPython  \\nLangGraph  \\nLangSmith  \\nLangChain  \\nJavaScript  \\nLangGraph  \\nLangSmith  \\nLangChain  \\nCompany  \\nAbout  \\nCareers  \\nPricing  \\nLangSmith  \\nLangGraph Platform  \\nGet a demo  \\nSign up  \\nProducts  \\nFrameworks  \\nLangGraph  \\nLangChain  \\nPlatforms  \\nLangSmith  \\nLangGraph Platform  \\nResources  \\nResources Hub  \\nBlog  \\nCustomer Stories  \\nLangChain Academy  \\nCommunity  \\nExperts  \\nChangelog  \\nDocs  \\nPython  \\nLangGraph  \\nLangSmith  \\nLangChain  \\nJavaScript  \\nLangGraph  \\nLangSmith  \\nLangChain  \\nCompany  \\nAbout  \\nCareers  \\nPricing  \\nLangSmith  \\nLangGraph Platform  \\nGet a demo  \\nSign up'),\n",
       " Document(metadata={'header1': 'The platform for  reliable agents.'}, page_content='The platform for  reliable agents.'),\n",
       " Document(metadata={'header1': 'The platform for  reliable agents.'}, page_content='Tools for every step of the agent development lifecycle -- built to unlock powerful AIÂ\\xa0in production.  \\nRequest a demo  \\nSee the docs'),\n",
       " Document(metadata={'header1': 'The platform for  reliable agents.', 'header4': 'LangChain products power top engineering teams, from   to'}, page_content='LangChain products power top engineering teams, from   to'),\n",
       " Document(metadata={'header1': 'The platform for  reliable agents.', 'header4': 'LangChain products power top engineering teams, from   to'}, page_content='startups  \\nglobal enterprises'),\n",
       " Document(metadata={'header1': 'The platform for  reliable agents.', 'header4': 'Accelerate agent development.'}, page_content='Accelerate agent development.'),\n",
       " Document(metadata={'header1': 'The platform for  reliable agents.', 'header4': 'Accelerate agent development.'}, page_content='Build faster with templates & a visual agent IDE. Reuse, configure, and combine agents to go further with less code.'),\n",
       " Document(metadata={'header1': 'The platform for  reliable agents.', 'header4': 'Ship reliable agents.'}, page_content='Ship reliable agents.'),\n",
       " Document(metadata={'header1': 'The platform for  reliable agents.', 'header4': 'Ship reliable agents.'}, page_content='Design agents that can handle sophisticated tasks with control. Add human-in-the-loop to steer and approve agent actions.'),\n",
       " Document(metadata={'header1': 'The platform for  reliable agents.', 'header4': 'Gain visibility & improve quality.'}, page_content='Gain visibility & improve quality.'),\n",
       " Document(metadata={'header1': 'The platform for  reliable agents.', 'header4': 'Gain visibility & improve quality.'}, page_content='See whatâ\\x80\\x99s happening - so you can quickly trace to root cause and debug issues. Evaluate your agent performance to improve over time.'),\n",
       " Document(metadata={'header1': 'The platform for  reliable agents.', 'header2': 'The Agent Stack'}, page_content='The Agent Stack'),\n",
       " Document(metadata={'header1': 'The platform for  reliable agents.', 'header2': 'The Agent Stack'}, page_content='ORCHESTRATION:  \\nBuild agents with LangGraph  \\nControllable agent orchestration with built-in persistence to handle conversational history, memory, and agent-to-agent collaboration.  \\nINTEGRATIONS:  \\nIntegrate components with LangChain  \\nIntegrate with the latest models, databases, and tools with no engineering overhead.  \\nEVALSÂ\\xa0&Â\\xa0OBSERVABILITY:  \\nGain visibility with LangSmith  \\nDebug poor-performing LLM app runs. Evaluate and observe agent performance at scale.  \\nDEPLOYMENT:  \\nDeploy &Â\\xa0manage with LangGraph Platform  \\nDeploy and scale enterprise-grade agents with long-running workflows. Discover, reuse, and share agents across teams â\\x80\\x94 and iterate faster with LangGraph Studio.'),\n",
       " Document(metadata={'header1': 'The platform for  reliable agents.', 'header2': 'The Agent Stack', 'header4': 'Copilots'}, page_content='Copilots'),\n",
       " Document(metadata={'header1': 'The platform for  reliable agents.', 'header2': 'The Agent Stack', 'header4': 'Copilots'}, page_content='Build native co-pilots into your application to unlock new end user experiences for domain-specific tasks.'),\n",
       " Document(metadata={'header1': 'The platform for  reliable agents.', 'header2': 'The Agent Stack', 'header4': 'Enterprise GPT'}, page_content='Enterprise GPT'),\n",
       " Document(metadata={'header1': 'The platform for  reliable agents.', 'header2': 'The Agent Stack', 'header4': 'Enterprise GPT'}, page_content='Give all employees accessâ\\x80¨to information and toolsâ\\x80¨in a compliant manner so theyâ\\x80¨can perform their best.'),\n",
       " Document(metadata={'header1': 'The platform for  reliable agents.', 'header2': 'The Agent Stack', 'header4': 'Customer Support'}, page_content='Customer Support'),\n",
       " Document(metadata={'header1': 'The platform for  reliable agents.', 'header2': 'The Agent Stack', 'header4': 'Customer Support'}, page_content='Improve the speed & efficiencyâ\\x80¨of support teams that handle customer requests.'),\n",
       " Document(metadata={'header1': 'The platform for  reliable agents.', 'header2': 'The Agent Stack', 'header4': 'Research'}, page_content='Research'),\n",
       " Document(metadata={'header1': 'The platform for  reliable agents.', 'header2': 'The Agent Stack', 'header4': 'Research'}, page_content='Synthesize data, summarize sources & uncover insights faster than ever for knowledge work.'),\n",
       " Document(metadata={'header1': 'The platform for  reliable agents.', 'header2': 'The Agent Stack', 'header4': 'Code generation'}, page_content='Code generation'),\n",
       " Document(metadata={'header1': 'The platform for  reliable agents.', 'header2': 'The Agent Stack', 'header4': 'Code generation'}, page_content='Accelerate software development by automating code writing, refactoring, and documentation for your team.'),\n",
       " Document(metadata={'header1': 'The platform for  reliable agents.', 'header2': 'The Agent Stack', 'header4': 'AI Search'}, page_content='AI Search'),\n",
       " Document(metadata={'header1': 'The platform for  reliable agents.', 'header2': 'The Agent Stack', 'header4': 'AI Search'}, page_content='Offer a concierge experience to guide users to products or information in a personalized way.'),\n",
       " Document(metadata={'header1': 'LangChain products are designed to be used independently or stack for multiplicative benefit.'}, page_content='LangChain products are designed to be used independently or stack for multiplicative benefit.'),\n",
       " Document(metadata={'header1': 'LangChain products are designed to be used independently or stack for multiplicative benefit.'}, page_content='LangChain  \\nLangGraph  \\nFrameworks  \\nLangSmith  \\nLangGraph Platform  \\nPlatforms  \\nFrameworks  \\nLangChain  \\nLangGraph  \\nPlatforms  \\nLangSmith  \\nLangGraph â\\x80¨Platform  \\nSTACK 1:Â\\xa0LangGraph +Â\\xa0LangChain +Â\\xa0LangSmith +Â\\xa0LangGraphÂ\\xa0Platform'),\n",
       " Document(metadata={'header1': 'LangChain products are designed to be used independently or stack for multiplicative benefit.', 'header3': 'A full product suite for reliable agents and LLM apps'}, page_content='A full product suite for reliable agents and LLM apps'),\n",
       " Document(metadata={'header1': 'LangChain products are designed to be used independently or stack for multiplicative benefit.'}, page_content=\"LangChain's products work seamlessly together to provide an integrated solution for every step of the application development journey. When you use all LangChain products, you'll build better, get to production quicker, and grow visibility -- all with less set up and friction.  LangChain provides the smoothest path to high quality agents.  \\nOrchestration:  \\nIntegrations:  \\nEvals + Observability:  \\nDeployment:  \\nSTACK 2: No framework +Â\\xa0LangSmith\"),\n",
       " Document(metadata={'header1': 'LangChain products are designed to be used independently or stack for multiplicative benefit.', 'header3': 'TraceÂ\\xa0and evaluate any LLM app'}, page_content='TraceÂ\\xa0and evaluate any LLM app'),\n",
       " Document(metadata={'header1': 'LangChain products are designed to be used independently or stack for multiplicative benefit.'}, page_content=\"LangSmith is framework-agnostic. Trace using the TypeScript or Python SDKÂ\\xa0to gain visibility into your agent interactions -- whether you use LangChain's frameworks or not.  \\nOrchestration:  \\nYour choice  \\nEvals + Observability:  \\nSTACK 3:Â\\xa0Any agent framework +Â\\xa0LangGraph Platform\"),\n",
       " Document(metadata={'header1': 'LangChain products are designed to be used independently or stack for multiplicative benefit.', 'header3': 'Build agents any way you want, then deploy and scale with ease'}, page_content='Build agents any way you want, then deploy and scale with ease'),\n",
       " Document(metadata={'header1': 'LangChain products are designed to be used independently or stack for multiplicative benefit.'}, page_content='LangGraph Platform works with   agent framework, enabling stateful UXs like human-in-the-loop and streaming-native deployments.  \\nany  \\nOrchestration:  \\nYour choice  \\nDeployment:'),\n",
       " Document(metadata={'header1': 'LangChain products are designed to be used independently or stack for multiplicative benefit.', 'header2': 'Get inspired by companies who have done it.'}, page_content='Get inspired by companies who have done it.'),\n",
       " Document(metadata={'header1': 'LangChain products are designed to be used independently or stack for multiplicative benefit.', 'header2': 'Get inspired by companies who have done it.'}, page_content=\"Teams building with LangChain products are driving operational efficiency, increasing discovery & personalization, and delivering premium products that generate revenue.  \\nDiscover Use Cases  \\nFinancial Services  \\nKlarna's AI assistant has reduced average customer query resolution time by 80%, powered by LangSmith and LangGraph  \\nTransportation  \\nThis global logistics provider is saving 600 hours a day using an automated order system built on LangGraph and LangSmith  \\nSecurity  \\nAs a leading cybersecurity firm with 40k+ customers, Trellix cut log parsing from days to minutes using LangGraph and LangSmith.\"),\n",
       " Document(metadata={'header4': 'The biggest developer community in GenAI'}, page_content='The biggest developer community in GenAI'),\n",
       " Document(metadata={'header4': 'The biggest developer community in GenAI'}, page_content='Learn alongside the 1M+ practitioners using our frameworks to push the industry forward.'),\n",
       " Document(metadata={'header4': '#1'}, page_content='#1'),\n",
       " Document(metadata={'header4': 'Downloaded agent framework'}, page_content='Downloaded agent framework'),\n",
       " Document(metadata={'header4': '100k+'}, page_content='100k+'),\n",
       " Document(metadata={'header4': 'GitHub stars'}, page_content='GitHub stars'),\n",
       " Document(metadata={'header4': '#1'}, page_content='#1'),\n",
       " Document(metadata={'header4': 'Downloaded agent framework'}, page_content='Downloaded agent framework'),\n",
       " Document(metadata={'header4': '600+'}, page_content='600+'),\n",
       " Document(metadata={'header4': 'Integrations'}, page_content='Integrations'),\n",
       " Document(metadata={'header2': 'Ready to start shipping â\\x80¨reliable agents faster?'}, page_content='Ready to start shipping â\\x80¨reliable agents faster?'),\n",
       " Document(metadata={}, page_content='Get started with tools from the LangChain product suite for every step of the agent development lifecycle.  \\nGet a demo  \\nSign up for free  \\nProducts  \\nLangChain  \\nLangSmith  \\nLangGraph  \\nAgents  \\nEvaluation  \\nRetrieval  \\nResources  \\nPython Docs  \\nJS/TS Docs  \\nGitHub  \\nIntegrations  \\nChangelog  \\nCommunity  \\nLangSmith Trust Portal  \\nCompany  \\nAbout  \\nCareers  \\nBlog  \\nTwitter  \\nLinkedIn  \\nYouTube  \\nMarketing Assets  \\nSign up for our newsletter to stay up to date  \\nThank you! Your submission has been received!  \\nOops! Something went wrong while submitting the form.  \\nAll systems  \\noperational  \\nPrivacy Policy  \\nTerms of Service  \\nvar sp = new StatusPage.page({ page : \\'nl3597xjtlm2\\' });\\n  sp.summary({\\n    success : function(data) {\\n      // Get the status value from the first component\\n      var status = data.components[0].status;\\n      \\n      // Log the status to the console (optional, you can remove this line)\\n      console.log(status);\\n      \\n      // Find the span with the class \\'.system-status\\' and set its content\\n      var statusSpan = document.querySelector(\\'.system-status\\');\\n      if(statusSpan) {\\n        statusSpan.textContent = status; // or use innerHTML if you need to include HTML\\n      }\\n    }\\n  });  \\nvar Webflow = Webflow || [];\\nWebflow.push(function () {\\n  // DOMready has fired\\n  // May now use jQuery and Webflow api\\ndocument.querySelector(\\'.w-nav-button\\').addEventListener(\\'click\\', function() {\\n    var logo = document.querySelector(\\'.navbar_logo-svg\\');\\n    \\n    // Toggle \\'open\\' class for both nav and logo\\n    logo.classList.toggle(\\'is-light\\');\\n});\\n});  \\n// Debounce function to limit the rate at which a function is executed\\nfunction debounce(func, wait) {\\n    let timeout;\\n    return function executedFunction(...args) {\\n        const later = () => {\\n            clearTimeout(timeout);\\n            func(...args);\\n        };\\n        clearTimeout(timeout);\\n        timeout = setTimeout(later, wait);\\n    };\\n}\\n\\n// Function to update video sources\\nfunction updateVideoSources() {\\n    const videos = document.querySelectorAll(\\'video\\'); // Select all video elements\\n    videos.forEach(video => {\\n        const sources = video.querySelectorAll(\\'source[data-src]\\'); // Select all source elements with a \"data-src\" attribute within each video\\n        if (window.innerWidth > 990) {\\n            sources.forEach(source => {\\n                source.src = source.getAttribute(\\'data-src\\'); // If screen width > 990, set src to data-src\\n            });\\n        } else {\\n            sources.forEach(source => {\\n                source.src = \\'#\\'; \\n            });\\n        }\\n        video.load(); // Important: load the new source(s) into the video\\n    });\\n}\\n\\n// Event listener for DOMContentLoaded to run once on start\\ndocument.addEventListener(\\'DOMContentLoaded\\', function() {\\n    updateVideoSources();\\n});\\n\\n// Event listener for resize with debounce\\nwindow.addEventListener(\\'resize\\', debounce(updateVideoSources, 250)); // Debounce resize event  \\nvar swiper = new Swiper(\".swiper.is-use-cases\", {\\n  slidesPerView: 4,\\n  spaceBetween: 24,\\n  loop: true,\\n  navigation: {\\n    nextEl: \".swiper-button-next\",\\n    prevEl: \".swiper-button-prev\",\\n  },\\n  breakpoints: {\\n    // Mobile view (0px to 479px)\\n    0: {\\n      slidesPerView: 1,\\n      spaceBetween: 16\\n    },\\n    // Tablet view (479px to 991px)\\n    479: {\\n      slidesPerView: 2,\\n      spaceBetween: 20\\n    },\\n    // Desktop view (992px and above)\\n    992: {\\n      slidesPerView: 4,\\n      spaceBetween: 24\\n    }\\n  }\\n});  \\n.swiper-slide.is-use-cases {\\n\\tmax-width: none;\\n}')]"
      ]
     },
     "execution_count": 7,
     "metadata": {},
     "output_type": "execute_result"
    }
   ],
   "source": [
    "final_split"
   ]
  },
  {
   "cell_type": "code",
   "execution_count": null,
   "id": "51ae67e7",
   "metadata": {},
   "outputs": [],
   "source": []
  },
  {
   "cell_type": "code",
   "execution_count": null,
   "id": "98263efb",
   "metadata": {},
   "outputs": [],
   "source": []
  }
 ],
 "metadata": {
  "kernelspec": {
   "display_name": "lang_venv",
   "language": "python",
   "name": "python3"
  },
  "language_info": {
   "codemirror_mode": {
    "name": "ipython",
    "version": 3
   },
   "file_extension": ".py",
   "mimetype": "text/x-python",
   "name": "python",
   "nbconvert_exporter": "python",
   "pygments_lexer": "ipython3",
   "version": "3.10.16"
  }
 },
 "nbformat": 4,
 "nbformat_minor": 5
}
