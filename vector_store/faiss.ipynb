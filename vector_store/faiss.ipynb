{
 "cells": [
  {
   "cell_type": "code",
   "execution_count": 3,
   "id": "59069bbd",
   "metadata": {},
   "outputs": [
    {
     "name": "stdout",
     "output_type": "stream",
     "text": [
      "[Document(metadata={'source': 'sam.txt'}, page_content=' my name is sam jasper. i am 20 years old.\\n  my bechlers in BCA.\\n  reading book is one of my hobby. \\n\\ni recent read time riders by alex.')]\n"
     ]
    }
   ],
   "source": [
    "### load and split document\n",
    "\n",
    "from langchain_community.document_loaders import TextLoader\n",
    "\n",
    "from langchain.text_splitter import CharacterTextSplitter\n",
    "\n",
    "loader=TextLoader(\"sam.txt\")\n",
    "\n",
    "documents=loader.load()\n",
    "print(documents)"
   ]
  },
  {
   "cell_type": "code",
   "execution_count": 7,
   "id": "b5e9b7b8",
   "metadata": {},
   "outputs": [
    {
     "name": "stderr",
     "output_type": "stream",
     "text": [
      "Created a chunk of size 100, which is longer than the specified 10\n"
     ]
    }
   ],
   "source": [
    "## split your document \n",
    "\n",
    "text_splitter=CharacterTextSplitter(chunk_size=10, chunk_overlap=3)\n",
    "\n",
    "docs=text_splitter.split_documents(documents)"
   ]
  },
  {
   "cell_type": "code",
   "execution_count": 8,
   "id": "3e10150a",
   "metadata": {},
   "outputs": [
    {
     "data": {
      "text/plain": [
       "2"
      ]
     },
     "execution_count": 8,
     "metadata": {},
     "output_type": "execute_result"
    }
   ],
   "source": [
    "len(docs)"
   ]
  },
  {
   "cell_type": "code",
   "execution_count": 9,
   "id": "4b56d0e6",
   "metadata": {},
   "outputs": [
    {
     "name": "stdout",
     "output_type": "stream",
     "text": [
      "[Document(metadata={'source': 'sam.txt'}, page_content='my name is sam jasper. i am 20 years old.\\n  my bechlers in BCA.\\n  reading book is one of my hobby.'), Document(metadata={'source': 'sam.txt'}, page_content='i recent read time riders by alex.')]\n"
     ]
    }
   ],
   "source": [
    "print(docs)"
   ]
  },
  {
   "cell_type": "code",
   "execution_count": 11,
   "id": "4b422889",
   "metadata": {},
   "outputs": [],
   "source": [
    "# embeddings + FAISS\n",
    "from langchain_community.embeddings import OllamaEmbeddings\n",
    "\n",
    "from langchain.vectorstores import FAISS\n",
    "\n",
    "embeddings=OllamaEmbeddings(model=\"nomic-embed-text\")\n",
    "db=FAISS.from_documents(docs,embeddings)"
   ]
  },
  {
   "cell_type": "code",
   "execution_count": 12,
   "id": "27df373d",
   "metadata": {},
   "outputs": [
    {
     "name": "stdout",
     "output_type": "stream",
     "text": [
      "<langchain_community.vectorstores.faiss.FAISS object at 0x0000011F76EF3D60>\n"
     ]
    }
   ],
   "source": [
    "print(db)"
   ]
  },
  {
   "cell_type": "code",
   "execution_count": 13,
   "id": "7e6e2a6d",
   "metadata": {},
   "outputs": [],
   "source": [
    "## semantic query search\n",
    "\n",
    "query=\"can you tell me age of sam jasper\"\n",
    "docs1=db.similarity_search(query)"
   ]
  },
  {
   "cell_type": "code",
   "execution_count": 14,
   "id": "d81b7ac2",
   "metadata": {},
   "outputs": [],
   "source": [
    "## retriever usage\n",
    "\n",
    "retriever= db.as_retriever()\n",
    "\n",
    "docs2=retriever.invoke(query)"
   ]
  },
  {
   "cell_type": "code",
   "execution_count": 15,
   "id": "73a111a5",
   "metadata": {},
   "outputs": [
    {
     "name": "stdout",
     "output_type": "stream",
     "text": [
      "[Document(id='a0ec745d-5f4e-4cc2-b9c2-ad9e6391ea2a', metadata={'source': 'sam.txt'}, page_content='my name is sam jasper. i am 20 years old.\\n  my bechlers in BCA.\\n  reading book is one of my hobby.'), Document(id='24bf2594-b637-44ac-8ec9-b18bb55c911a', metadata={'source': 'sam.txt'}, page_content='i recent read time riders by alex.')]\n"
     ]
    }
   ],
   "source": [
    "print(docs2)"
   ]
  },
  {
   "cell_type": "code",
   "execution_count": 16,
   "id": "e3a38b81",
   "metadata": {},
   "outputs": [],
   "source": [
    "embedding_vector=embeddings.embed_query(query)\n",
    "\n",
    "docs3=db.similarity_search_by_vector(embedding_vector)\n"
   ]
  },
  {
   "cell_type": "code",
   "execution_count": 17,
   "id": "761bacd5",
   "metadata": {},
   "outputs": [
    {
     "data": {
      "text/plain": [
       "[Document(id='a0ec745d-5f4e-4cc2-b9c2-ad9e6391ea2a', metadata={'source': 'sam.txt'}, page_content='my name is sam jasper. i am 20 years old.\\n  my bechlers in BCA.\\n  reading book is one of my hobby.'),\n",
       " Document(id='24bf2594-b637-44ac-8ec9-b18bb55c911a', metadata={'source': 'sam.txt'}, page_content='i recent read time riders by alex.')]"
      ]
     },
     "execution_count": 17,
     "metadata": {},
     "output_type": "execute_result"
    }
   ],
   "source": [
    "docs3"
   ]
  },
  {
   "cell_type": "code",
   "execution_count": null,
   "id": "2588377a",
   "metadata": {},
   "outputs": [],
   "source": []
  }
 ],
 "metadata": {
  "kernelspec": {
   "display_name": "lang_venv",
   "language": "python",
   "name": "python3"
  },
  "language_info": {
   "codemirror_mode": {
    "name": "ipython",
    "version": 3
   },
   "file_extension": ".py",
   "mimetype": "text/x-python",
   "name": "python",
   "nbconvert_exporter": "python",
   "pygments_lexer": "ipython3",
   "version": "3.10.16"
  }
 },
 "nbformat": 4,
 "nbformat_minor": 5
}
