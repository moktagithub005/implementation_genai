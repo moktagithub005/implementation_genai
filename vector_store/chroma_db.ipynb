{
 "cells": [
  {
   "cell_type": "code",
   "execution_count": 5,
   "id": "91b8c902",
   "metadata": {},
   "outputs": [],
   "source": [
    "## import all necessary library\n",
    "from langchain_community.document_loaders import TextLoader\n",
    "from langchain_text_splitters import RecursiveCharacterTextSplitter\n",
    "from langchain_community.embeddings import OllamaEmbeddings\n",
    "from langchain_chroma import Chroma\n"
   ]
  },
  {
   "cell_type": "code",
   "execution_count": 8,
   "id": "bda1a1fb",
   "metadata": {},
   "outputs": [
    {
     "name": "stdout",
     "output_type": "stream",
     "text": [
      "[Document(metadata={'source': 'sam.txt'}, page_content=' my name is sam jasper. i am 20 years old.\\n  my bechlers in BCA.\\n  reading book is one of my hobby. \\n\\ni recent read time riders by alex.\\n\\nI am 0.0009326 nautical miles tall. I solve 3x3 and 5x5 Rubik’s Cubes, cook, and collect coins. In my spare time, I like breaking operating systems. I also know the procedure for a heart transplant.\\n\\n\\nabout-nitish \\n\\nHello everyone,\\n\\nMy name is Nitish Joshi, and I am pursuing a B.Tech in Computer Science and Engineering at Dev Bhoomi Uttarakhand University, Dehradun.\\nI have a deep passion for programming, problem-solving, and exploring emerging technologies like AI and Machine Learning. I am always eager to expand my knowledge and stay updated with new advancements in the tech world.\\n\\nGoals:\\n\\nShort-term: Enhance my time management skills and acquire new technical and interpersonal abilities.\\n\\nLong-term: Make\\n\\n')]\n"
     ]
    }
   ],
   "source": [
    "## load your raw data\n",
    "loader=TextLoader(\"sam.txt\")\n",
    "data=loader.load()\n",
    "print(data)"
   ]
  },
  {
   "cell_type": "code",
   "execution_count": 9,
   "id": "50dac68c",
   "metadata": {},
   "outputs": [],
   "source": [
    "## split your all data that you have\n",
    "\n",
    "text_splitter=RecursiveCharacterTextSplitter(chunk_size=200,chunk_overlap=50)\n",
    "docs=text_splitter.split_documents(data)"
   ]
  },
  {
   "cell_type": "code",
   "execution_count": 10,
   "id": "97cd72a0",
   "metadata": {},
   "outputs": [
    {
     "data": {
      "text/plain": [
       "[Document(metadata={'source': 'sam.txt'}, page_content='my name is sam jasper. i am 20 years old.\\n  my bechlers in BCA.\\n  reading book is one of my hobby. \\n\\ni recent read time riders by alex.'),\n",
       " Document(metadata={'source': 'sam.txt'}, page_content='I am 0.0009326 nautical miles tall. I solve 3x3 and 5x5 Rubik’s Cubes, cook, and collect coins. In my spare time, I like breaking operating systems. I also know the procedure for a heart transplant.'),\n",
       " Document(metadata={'source': 'sam.txt'}, page_content='about-nitish \\n\\nHello everyone,'),\n",
       " Document(metadata={'source': 'sam.txt'}, page_content='My name is Nitish Joshi, and I am pursuing a B.Tech in Computer Science and Engineering at Dev Bhoomi Uttarakhand University, Dehradun.'),\n",
       " Document(metadata={'source': 'sam.txt'}, page_content='I have a deep passion for programming, problem-solving, and exploring emerging technologies like AI and Machine Learning. I am always eager to expand my knowledge and stay updated with new'),\n",
       " Document(metadata={'source': 'sam.txt'}, page_content='to expand my knowledge and stay updated with new advancements in the tech world.'),\n",
       " Document(metadata={'source': 'sam.txt'}, page_content='Goals:\\n\\nShort-term: Enhance my time management skills and acquire new technical and interpersonal abilities.\\n\\nLong-term: Make')]"
      ]
     },
     "execution_count": 10,
     "metadata": {},
     "output_type": "execute_result"
    }
   ],
   "source": [
    "docs"
   ]
  },
  {
   "cell_type": "code",
   "execution_count": 11,
   "id": "2d8b22e7",
   "metadata": {},
   "outputs": [
    {
     "data": {
      "text/plain": [
       "7"
      ]
     },
     "execution_count": 11,
     "metadata": {},
     "output_type": "execute_result"
    }
   ],
   "source": [
    "len(docs)"
   ]
  },
  {
   "cell_type": "code",
   "execution_count": null,
   "id": "996e7fe1",
   "metadata": {},
   "outputs": [],
   "source": [
    "## convert text into embeddings\n",
    "embeddings=OllamaEmbeddings(model=\"nomic-embed-text\")\n",
    "vectordb=Chroma.from_documents(docs,embeddings)"
   ]
  },
  {
   "cell_type": "code",
   "execution_count": 22,
   "id": "b2fad5b1",
   "metadata": {},
   "outputs": [],
   "source": [
    "## ask question \n",
    "\n",
    "query=\"how tall sam is?\"\n",
    "docs=vectordb.similarity_search(query)\n"
   ]
  },
  {
   "cell_type": "code",
   "execution_count": 23,
   "id": "f53f4aa3",
   "metadata": {},
   "outputs": [
    {
     "data": {
      "text/plain": [
       "[Document(id='620a0b7a-5be4-4fce-ab23-8761da9941ae', metadata={'source': 'sam.txt'}, page_content='I am 0.0009326 nautical miles tall. I solve 3x3 and 5x5 Rubik’s Cubes, cook, and collect coins. In my spare time, I like breaking operating systems. I also know the procedure for a heart transplant.'),\n",
       " Document(id='ce32f5c7-a56b-4915-abca-f5fd58af4412', metadata={'source': 'sam.txt'}, page_content='my name is sam jasper. i am 20 years old.\\n  my bechlers in BCA.\\n  reading book is one of my hobby. \\n\\ni recent read time riders by alex.'),\n",
       " Document(id='5c8fe4f9-a696-4b4b-92de-ce2ee6c866b9', metadata={'source': 'sam.txt'}, page_content='about-nitish \\n\\nHello everyone,'),\n",
       " Document(id='67424fe8-3c48-46ed-89a5-27d9a3927930', metadata={'source': 'sam.txt'}, page_content='My name is Nitish Joshi, and I am pursuing a B.Tech in Computer Science and Engineering at Dev Bhoomi Uttarakhand University, Dehradun.')]"
      ]
     },
     "execution_count": 23,
     "metadata": {},
     "output_type": "execute_result"
    }
   ],
   "source": [
    "docs"
   ]
  },
  {
   "cell_type": "code",
   "execution_count": 24,
   "id": "9b2398f9",
   "metadata": {},
   "outputs": [],
   "source": [
    "## save the vector Db\n",
    "\n",
    "vectordb=Chroma.from_documents(documents=docs,embedding=embeddings,persist_directory=\"./chroma_db\")"
   ]
  },
  {
   "cell_type": "code",
   "execution_count": 25,
   "id": "da092570",
   "metadata": {},
   "outputs": [],
   "source": [
    "## load your vector db\n",
    "db2=Chroma(persist_directory=\"./chroma_db\",embedding_function=embeddings)"
   ]
  },
  {
   "cell_type": "code",
   "execution_count": 26,
   "id": "b213b2c0",
   "metadata": {},
   "outputs": [
    {
     "data": {
      "text/plain": [
       "<langchain_chroma.vectorstores.Chroma at 0x18bebee6c50>"
      ]
     },
     "execution_count": 26,
     "metadata": {},
     "output_type": "execute_result"
    }
   ],
   "source": [
    "db2\n"
   ]
  },
  {
   "cell_type": "code",
   "execution_count": 27,
   "id": "c478c759",
   "metadata": {},
   "outputs": [],
   "source": [
    "docs=db2.similarity_search(query)"
   ]
  },
  {
   "cell_type": "code",
   "execution_count": 28,
   "id": "1dd20d3c",
   "metadata": {},
   "outputs": [
    {
     "data": {
      "text/plain": [
       "[Document(id='620a0b7a-5be4-4fce-ab23-8761da9941ae', metadata={'source': 'sam.txt'}, page_content='I am 0.0009326 nautical miles tall. I solve 3x3 and 5x5 Rubik’s Cubes, cook, and collect coins. In my spare time, I like breaking operating systems. I also know the procedure for a heart transplant.'),\n",
       " Document(id='ce32f5c7-a56b-4915-abca-f5fd58af4412', metadata={'source': 'sam.txt'}, page_content='my name is sam jasper. i am 20 years old.\\n  my bechlers in BCA.\\n  reading book is one of my hobby. \\n\\ni recent read time riders by alex.'),\n",
       " Document(id='5c8fe4f9-a696-4b4b-92de-ce2ee6c866b9', metadata={'source': 'sam.txt'}, page_content='about-nitish \\n\\nHello everyone,'),\n",
       " Document(id='67424fe8-3c48-46ed-89a5-27d9a3927930', metadata={'source': 'sam.txt'}, page_content='My name is Nitish Joshi, and I am pursuing a B.Tech in Computer Science and Engineering at Dev Bhoomi Uttarakhand University, Dehradun.')]"
      ]
     },
     "execution_count": 28,
     "metadata": {},
     "output_type": "execute_result"
    }
   ],
   "source": [
    "docs"
   ]
  },
  {
   "cell_type": "code",
   "execution_count": null,
   "id": "7f8dfcd2",
   "metadata": {},
   "outputs": [],
   "source": []
  }
 ],
 "metadata": {
  "kernelspec": {
   "display_name": "lang_venv",
   "language": "python",
   "name": "python3"
  },
  "language_info": {
   "codemirror_mode": {
    "name": "ipython",
    "version": 3
   },
   "file_extension": ".py",
   "mimetype": "text/x-python",
   "name": "python",
   "nbconvert_exporter": "python",
   "pygments_lexer": "ipython3",
   "version": "3.10.16"
  }
 },
 "nbformat": 4,
 "nbformat_minor": 5
}
