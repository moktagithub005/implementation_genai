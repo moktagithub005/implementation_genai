{
 "cells": [
  {
   "cell_type": "code",
   "execution_count": 2,
   "id": "159a0cd7",
   "metadata": {},
   "outputs": [],
   "source": [
    "import json\n",
    "import requests"
   ]
  },
  {
   "cell_type": "code",
   "execution_count": 4,
   "id": "70d97fa4",
   "metadata": {},
   "outputs": [
    {
     "name": "stdout",
     "output_type": "stream",
     "text": [
      "{'detail': 'Not Found'}\n"
     ]
    }
   ],
   "source": [
    "json_data=requests.get(\"https://api.smith.langchain.com/openai.json\").json()\n",
    "\n",
    "print(json_data)"
   ]
  },
  {
   "cell_type": "code",
   "execution_count": null,
   "id": "5e2cae31",
   "metadata": {},
   "outputs": [],
   "source": [
    "import json\n",
    "import requests\n",
    "\n",
    "url=\"https://api.open-meteo.com/v1/forecast?latitude=31.1044&longitude=77.1666&hourly=temperature_2m\"\n",
    "\n",
    "response=requests.get(url)\n",
    "\n",
    "if response.status_code==200:\n",
    "    weather_data=response.json()\n",
    "else:\n",
    "    print(\"error\",response.status_code)\n",
    "    \n",
    "\n"
   ]
  },
  {
   "cell_type": "code",
   "execution_count": 8,
   "id": "6aed43d5",
   "metadata": {},
   "outputs": [
    {
     "name": "stdout",
     "output_type": "stream",
     "text": [
      "{'latitude': 31.0, 'longitude': 77.25, 'generationtime_ms': 0.023603439331054688, 'utc_offset_seconds': 0, 'timezone': 'GMT', 'timezone_abbreviation': 'GMT', 'elevation': 2122.0, 'hourly_units': {'time': 'iso8601', 'temperature_2m': '°C'}, 'hourly': {'time': ['2025-06-26T00:00', '2025-06-26T01:00', '2025-06-26T02:00', '2025-06-26T03:00', '2025-06-26T04:00', '2025-06-26T05:00', '2025-06-26T06:00', '2025-06-26T07:00', '2025-06-26T08:00', '2025-06-26T09:00', '2025-06-26T10:00', '2025-06-26T11:00', '2025-06-26T12:00', '2025-06-26T13:00', '2025-06-26T14:00', '2025-06-26T15:00', '2025-06-26T16:00', '2025-06-26T17:00', '2025-06-26T18:00', '2025-06-26T19:00', '2025-06-26T20:00', '2025-06-26T21:00', '2025-06-26T22:00', '2025-06-26T23:00', '2025-06-27T00:00', '2025-06-27T01:00', '2025-06-27T02:00', '2025-06-27T03:00', '2025-06-27T04:00', '2025-06-27T05:00', '2025-06-27T06:00', '2025-06-27T07:00', '2025-06-27T08:00', '2025-06-27T09:00', '2025-06-27T10:00', '2025-06-27T11:00', '2025-06-27T12:00', '2025-06-27T13:00', '2025-06-27T14:00', '2025-06-27T15:00', '2025-06-27T16:00', '2025-06-27T17:00', '2025-06-27T18:00', '2025-06-27T19:00', '2025-06-27T20:00', '2025-06-27T21:00', '2025-06-27T22:00', '2025-06-27T23:00', '2025-06-28T00:00', '2025-06-28T01:00', '2025-06-28T02:00', '2025-06-28T03:00', '2025-06-28T04:00', '2025-06-28T05:00', '2025-06-28T06:00', '2025-06-28T07:00', '2025-06-28T08:00', '2025-06-28T09:00', '2025-06-28T10:00', '2025-06-28T11:00', '2025-06-28T12:00', '2025-06-28T13:00', '2025-06-28T14:00', '2025-06-28T15:00', '2025-06-28T16:00', '2025-06-28T17:00', '2025-06-28T18:00', '2025-06-28T19:00', '2025-06-28T20:00', '2025-06-28T21:00', '2025-06-28T22:00', '2025-06-28T23:00', '2025-06-29T00:00', '2025-06-29T01:00', '2025-06-29T02:00', '2025-06-29T03:00', '2025-06-29T04:00', '2025-06-29T05:00', '2025-06-29T06:00', '2025-06-29T07:00', '2025-06-29T08:00', '2025-06-29T09:00', '2025-06-29T10:00', '2025-06-29T11:00', '2025-06-29T12:00', '2025-06-29T13:00', '2025-06-29T14:00', '2025-06-29T15:00', '2025-06-29T16:00', '2025-06-29T17:00', '2025-06-29T18:00', '2025-06-29T19:00', '2025-06-29T20:00', '2025-06-29T21:00', '2025-06-29T22:00', '2025-06-29T23:00', '2025-06-30T00:00', '2025-06-30T01:00', '2025-06-30T02:00', '2025-06-30T03:00', '2025-06-30T04:00', '2025-06-30T05:00', '2025-06-30T06:00', '2025-06-30T07:00', '2025-06-30T08:00', '2025-06-30T09:00', '2025-06-30T10:00', '2025-06-30T11:00', '2025-06-30T12:00', '2025-06-30T13:00', '2025-06-30T14:00', '2025-06-30T15:00', '2025-06-30T16:00', '2025-06-30T17:00', '2025-06-30T18:00', '2025-06-30T19:00', '2025-06-30T20:00', '2025-06-30T21:00', '2025-06-30T22:00', '2025-06-30T23:00', '2025-07-01T00:00', '2025-07-01T01:00', '2025-07-01T02:00', '2025-07-01T03:00', '2025-07-01T04:00', '2025-07-01T05:00', '2025-07-01T06:00', '2025-07-01T07:00', '2025-07-01T08:00', '2025-07-01T09:00', '2025-07-01T10:00', '2025-07-01T11:00', '2025-07-01T12:00', '2025-07-01T13:00', '2025-07-01T14:00', '2025-07-01T15:00', '2025-07-01T16:00', '2025-07-01T17:00', '2025-07-01T18:00', '2025-07-01T19:00', '2025-07-01T20:00', '2025-07-01T21:00', '2025-07-01T22:00', '2025-07-01T23:00', '2025-07-02T00:00', '2025-07-02T01:00', '2025-07-02T02:00', '2025-07-02T03:00', '2025-07-02T04:00', '2025-07-02T05:00', '2025-07-02T06:00', '2025-07-02T07:00', '2025-07-02T08:00', '2025-07-02T09:00', '2025-07-02T10:00', '2025-07-02T11:00', '2025-07-02T12:00', '2025-07-02T13:00', '2025-07-02T14:00', '2025-07-02T15:00', '2025-07-02T16:00', '2025-07-02T17:00', '2025-07-02T18:00', '2025-07-02T19:00', '2025-07-02T20:00', '2025-07-02T21:00', '2025-07-02T22:00', '2025-07-02T23:00'], 'temperature_2m': [19.0, 19.4, 20.9, 21.8, 22.7, 23.2, 23.1, 23.0, 22.9, 23.3, 22.7, 22.7, 22.2, 21.3, 20.8, 20.4, 20.2, 20.1, 20.2, 20.0, 19.7, 19.6, 19.5, 19.5, 19.3, 19.8, 20.9, 21.6, 22.4, 23.3, 23.6, 22.8, 21.9, 22.1, 22.2, 21.9, 21.0, 21.1, 20.8, 20.3, 20.1, 19.9, 19.6, 19.4, 19.2, 19.0, 18.7, 18.6, 18.4, 19.1, 20.8, 21.5, 21.5, 21.8, 22.4, 21.8, 21.7, 21.5, 21.8, 21.3, 20.6, 20.1, 19.7, 19.3, 19.2, 18.9, 18.7, 18.5, 18.4, 18.2, 18.2, 18.5, 18.4, 18.5, 18.8, 19.4, 19.9, 20.7, 20.9, 21.1, 20.9, 21.5, 21.2, 20.3, 20.0, 19.6, 19.2, 18.9, 18.7, 18.6, 18.5, 18.4, 18.3, 18.2, 18.0, 17.9, 17.9, 18.3, 18.9, 19.5, 20.1, 20.7, 21.1, 21.5, 21.7, 21.7, 21.4, 20.9, 20.4, 19.9, 19.4, 18.9, 18.6, 18.4, 18.2, 18.2, 18.3, 18.3, 18.2, 18.0, 18.1, 18.7, 19.6, 20.3, 20.6, 20.9, 21.1, 21.6, 22.2, 22.5, 22.1, 21.5, 20.8, 20.2, 19.7, 19.2, 19.0, 18.8, 18.7, 18.5, 18.3, 18.1, 17.8, 17.6, 17.8, 18.7, 20.0, 21.1, 21.8, 22.4, 22.8, 22.7, 22.4, 22.1, 21.9, 21.8, 21.6, 21.0, 20.3, 19.7, 19.4, 19.3, 19.2, 18.9, 18.7, 18.5, 18.2, 18.0]}}\n"
     ]
    }
   ],
   "source": [
    "print(weather_data)"
   ]
  },
  {
   "cell_type": "code",
   "execution_count": 17,
   "id": "0ff5e5bb",
   "metadata": {},
   "outputs": [
    {
     "name": "stdout",
     "output_type": "stream",
     "text": [
      "['{\"location\": {\"name\": \"Delhi\", \"region\": \"Ontario\", \"country\": \"Canada\", \"lat\": 42.85, \"lon\": -80.5, \"tz_id\": \"America/Toronto\", \"localtime_epoch\": 1750953708, \"localtime\": \"2025-06-26 12:01\"}, \"current\": {\"last_updated_epoch\": 1750953600, \"last_updated\": \"2025-06-26 12:00\", \"temp_c\": 20.3, \"temp_f\": 68.5, \"is_day\": 1, \"condition\": {\"text\": \"Overcast\", \"icon\": \"//cdn.weatherapi.com/weather/64x64/day/122.png\", \"code\": 1009}, \"wind_mph\": 3.1, \"wind_kph\": 5.0, \"wind_degree\": 108}}', '{\"current\": {\"wind_dir\": \"ESE\", \"pressure_mb\": 1018.0, \"pressure_in\": 30.07, \"precip_mm\": 0.0, \"precip_in\": 0.0, \"humidity\": 94, \"cloud\": 100, \"feelslike_c\": 20.3, \"feelslike_f\": 68.5, \"windchill_c\": 19.0, \"windchill_f\": 66.3, \"heatindex_c\": 19.3, \"heatindex_f\": 66.7, \"dewpoint_c\": 14.8, \"dewpoint_f\": 58.6, \"vis_km\": 24.0, \"vis_miles\": 14.0, \"uv\": 7.8, \"gust_mph\": 4.0, \"gust_kph\": 6.4}}', '{\"current\": {\"air_quality\": {\"co\": 339.802, \"no2\": 5.327, \"o3\": 120.0, \"so2\": 2.755, \"pm2_5\": 15.245, \"pm10\": 16.164, \"us-epa-index\": 1, \"gb-defra-index\": 2}}}']\n"
     ]
    }
   ],
   "source": [
    "from langchain.text_splitter import RecursiveJsonSplitter\n",
    "\n",
    "## initialize splitter\n",
    "\n",
    "splitter=RecursiveJsonSplitter(max_chunk_size=500)\n",
    "\n",
    "##apply splitter\n",
    "\n",
    "split=splitter.split_text(weather_data)\n",
    "\n",
    "print(split)\n"
   ]
  },
  {
   "cell_type": "code",
   "execution_count": 18,
   "id": "ca0f7b8a",
   "metadata": {},
   "outputs": [
    {
     "data": {
      "text/plain": [
       "3"
      ]
     },
     "execution_count": 18,
     "metadata": {},
     "output_type": "execute_result"
    }
   ],
   "source": [
    "len(split)"
   ]
  },
  {
   "cell_type": "code",
   "execution_count": 15,
   "id": "ffb5726b",
   "metadata": {},
   "outputs": [],
   "source": [
    "import json \n",
    "import requests\n",
    "\n",
    "api_key=\"669f40aed97542e3b25100757252606\"\n",
    "\n",
    "city=\"delhi\"\n",
    "\n",
    "url=f\"http://api.weatherapi.com/v1/current.json?key=669f40aed97542e3b25100757252606&q=delhi&aqi=yes\"\n",
    "\n",
    "response=requests.get(url)\n",
    "\n",
    "if response.status_code==200:\n",
    "    weather_data=response.json()\n",
    "else:\n",
    "    print(\"error\")"
   ]
  },
  {
   "cell_type": "code",
   "execution_count": 16,
   "id": "e8d58b81",
   "metadata": {},
   "outputs": [
    {
     "data": {
      "text/plain": [
       "{'location': {'name': 'Delhi',\n",
       "  'region': 'Ontario',\n",
       "  'country': 'Canada',\n",
       "  'lat': 42.85,\n",
       "  'lon': -80.5,\n",
       "  'tz_id': 'America/Toronto',\n",
       "  'localtime_epoch': 1750953708,\n",
       "  'localtime': '2025-06-26 12:01'},\n",
       " 'current': {'last_updated_epoch': 1750953600,\n",
       "  'last_updated': '2025-06-26 12:00',\n",
       "  'temp_c': 20.3,\n",
       "  'temp_f': 68.5,\n",
       "  'is_day': 1,\n",
       "  'condition': {'text': 'Overcast',\n",
       "   'icon': '//cdn.weatherapi.com/weather/64x64/day/122.png',\n",
       "   'code': 1009},\n",
       "  'wind_mph': 3.1,\n",
       "  'wind_kph': 5.0,\n",
       "  'wind_degree': 108,\n",
       "  'wind_dir': 'ESE',\n",
       "  'pressure_mb': 1018.0,\n",
       "  'pressure_in': 30.07,\n",
       "  'precip_mm': 0.0,\n",
       "  'precip_in': 0.0,\n",
       "  'humidity': 94,\n",
       "  'cloud': 100,\n",
       "  'feelslike_c': 20.3,\n",
       "  'feelslike_f': 68.5,\n",
       "  'windchill_c': 19.0,\n",
       "  'windchill_f': 66.3,\n",
       "  'heatindex_c': 19.3,\n",
       "  'heatindex_f': 66.7,\n",
       "  'dewpoint_c': 14.8,\n",
       "  'dewpoint_f': 58.6,\n",
       "  'vis_km': 24.0,\n",
       "  'vis_miles': 14.0,\n",
       "  'uv': 7.8,\n",
       "  'gust_mph': 4.0,\n",
       "  'gust_kph': 6.4,\n",
       "  'air_quality': {'co': 339.802,\n",
       "   'no2': 5.327,\n",
       "   'o3': 120.0,\n",
       "   'so2': 2.755,\n",
       "   'pm2_5': 15.245,\n",
       "   'pm10': 16.164,\n",
       "   'us-epa-index': 1,\n",
       "   'gb-defra-index': 2}}}"
      ]
     },
     "execution_count": 16,
     "metadata": {},
     "output_type": "execute_result"
    }
   ],
   "source": [
    "weather_data"
   ]
  },
  {
   "cell_type": "code",
   "execution_count": 19,
   "id": "0f15193b",
   "metadata": {},
   "outputs": [
    {
     "name": "stdout",
     "output_type": "stream",
     "text": [
      "['{\"location\": {\"name\": \"Delhi\", \"region\": \"Ontario\", \"country\": \"Canada\", \"lat\": 42.85, \"lon\": -80.5, \"tz_id\": \"America/Toronto\", \"localtime_epoch\": 1750953708, \"localtime\": \"2025-06-26 12:01\"}, \"current\": {\"last_updated_epoch\": 1750953600, \"last_updated\": \"2025-06-26 12:00\", \"temp_c\": 20.3, \"temp_f\": 68.5, \"is_day\": 1, \"condition\": {\"text\": \"Overcast\", \"icon\": \"//cdn.weatherapi.com/weather/64x64/day/122.png\", \"code\": 1009}, \"wind_mph\": 3.1, \"wind_kph\": 5.0, \"wind_degree\": 108}}', '{\"current\": {\"wind_dir\": \"ESE\", \"pressure_mb\": 1018.0, \"pressure_in\": 30.07, \"precip_mm\": 0.0, \"precip_in\": 0.0, \"humidity\": 94, \"cloud\": 100, \"feelslike_c\": 20.3, \"feelslike_f\": 68.5, \"windchill_c\": 19.0, \"windchill_f\": 66.3, \"heatindex_c\": 19.3, \"heatindex_f\": 66.7, \"dewpoint_c\": 14.8, \"dewpoint_f\": 58.6, \"vis_km\": 24.0, \"vis_miles\": 14.0, \"uv\": 7.8, \"gust_mph\": 4.0, \"gust_kph\": 6.4}}', '{\"current\": {\"air_quality\": {\"co\": 339.802, \"no2\": 5.327, \"o3\": 120.0, \"so2\": 2.755, \"pm2_5\": 15.245, \"pm10\": 16.164, \"us-epa-index\": 1, \"gb-defra-index\": 2}}}']\n"
     ]
    }
   ],
   "source": [
    "from langchain.text_splitter import RecursiveJsonSplitter\n",
    "\n",
    "## initialize splitter\n",
    "\n",
    "splitter=RecursiveJsonSplitter(max_chunk_size=500)\n",
    "\n",
    "##apply splitter\n",
    "\n",
    "split=splitter.split_text(weather_data)\n",
    "\n",
    "print(split)\n"
   ]
  },
  {
   "cell_type": "code",
   "execution_count": null,
   "id": "f19261a1",
   "metadata": {},
   "outputs": [],
   "source": []
  },
  {
   "cell_type": "code",
   "execution_count": null,
   "id": "e79ced61",
   "metadata": {},
   "outputs": [],
   "source": []
  }
 ],
 "metadata": {
  "kernelspec": {
   "display_name": "lang_venv",
   "language": "python",
   "name": "python3"
  },
  "language_info": {
   "codemirror_mode": {
    "name": "ipython",
    "version": 3
   },
   "file_extension": ".py",
   "mimetype": "text/x-python",
   "name": "python",
   "nbconvert_exporter": "python",
   "pygments_lexer": "ipython3",
   "version": "3.10.16"
  }
 },
 "nbformat": 4,
 "nbformat_minor": 5
}
