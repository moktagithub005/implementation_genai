{
 "cells": [
  {
   "cell_type": "code",
   "execution_count": 2,
   "id": "5c958f50",
   "metadata": {},
   "outputs": [],
   "source": [
    "from langchain_text_splitters import RecursiveCharacterTextSplitter"
   ]
  },
  {
   "cell_type": "code",
   "execution_count": null,
   "id": "3b480e16",
   "metadata": {},
   "outputs": [
    {
     "name": "stdout",
     "output_type": "stream",
     "text": [
      "[Document(metadata={}, page_content=\"Artificial Intelligence (AI) has always been a field that captivated me with its endless possibilities. From transforming industries to improving daily life, AI stands at the forefront of technological innovation. My journey began when Ashmit JaiSarita Gupta sir introduced me to Microsoft Azure's AI tools. Azure’s intuitive interface and powerful services allowed me to create AI-driven applications that automate tasks, analyze data, and even predict future outcomes. With AI, machines can now\"), Document(metadata={}, page_content=\"future outcomes. With AI, machines can now understand and process large datasets, automate repetitive tasks, and provide intelligent insights. Exploring Azure's various services like Machine Learning, Natural Language Processing, and Computer Vision, I was able to craft solutions that streamline processes and enhance decision-making. The future of AI is bright, and Microsoft Azure makes it accessible to all.\"), Document(metadata={}, page_content=\"Familiarize yourself with LangChain's open-source components by building simple applications.\"), Document(metadata={}, page_content=\"If you're looking to get started with chat models, vector stores, or other LangChain components from a specific provider, check out our supported integrations.\"), Document(metadata={}, page_content='Chat models and prompts: Build a simple LLM application with prompt templates and chat models.\\nSemantic search: Build a semantic search engine over a PDF with document loaders, embedding models, and vector stores.\\nClassification: Classify text into categories or labels using chat models with structured outputs.\\nExtraction: Extract structured data from text and other unstructured media using chat models and few-shot examples.'), Document(metadata={}, page_content='Refer to the how-to guides for more detail on using all LangChain components.'), Document(metadata={}, page_content='Get started using LangGraph to assemble LangChain components into full-featured applications.'), Document(metadata={}, page_content='Chatbots: Build a chatbot that incorporates memory.\\nAgents: Build an agent that interacts with external tools.\\nRetrieval Augmented Generation (RAG) Part 1: Build an application that uses your own documents to inform its responses.\\nRetrieval Augmented Generation (RAG) Part 2: Build a RAG application that incorporates a memory of its user interactions and multi-step retrieval.\\nQuestion-Answering with SQL: Build a question-answering system that executes SQL queries to inform its responses.'), Document(metadata={}, page_content='Summarization: Generate summaries of (potentially long) texts.\\nQuestion-Answering with Graph Databases: Build a question-answering system that queries a graph database to inform its responses.'), Document(metadata={}, page_content='LangSmith allows you to closely trace, monitor and evaluate your LLM application. It seamlessly integrates with LangChain, and you can use it to inspect and debug individual steps of your chains as you build.\\n\\nLangSmith documentation is hosted on a separate site. You can peruse LangSmith tutorials here.\\n\\n\\n\\nmuskan is Btech second year student at xyz college.')]\n"
     ]
    }
   ],
   "source": [
    "with open(\"muskan.txt\") as f:\n",
    "    muskan=f.read()\n",
    "text_splitter=RecursiveCharacterTextSplitter(chunk_size=500,chunk_overlap=50)\n",
    "text=text_splitter.create_documents([muskan])\n",
    "print(text)"
   ]
  },
  {
   "cell_type": "code",
   "execution_count": 11,
   "id": "2e0b8435",
   "metadata": {},
   "outputs": [
    {
     "name": "stdout",
     "output_type": "stream",
     "text": [
      "page_content='Artificial Intelligence (AI) has always been a field that captivated me with its endless possibilities. From transforming industries to improving daily life, AI stands at the forefront of technological innovation. My journey began when Ashmit JaiSarita Gupta sir introduced me to Microsoft Azure's AI tools. Azure’s intuitive interface and powerful services allowed me to create AI-driven applications that automate tasks, analyze data, and even predict future outcomes. With AI, machines can now'\n"
     ]
    }
   ],
   "source": [
    "print(text[0])"
   ]
  },
  {
   "cell_type": "code",
   "execution_count": 13,
   "id": "8f14fcdc",
   "metadata": {},
   "outputs": [
    {
     "name": "stdout",
     "output_type": "stream",
     "text": [
      "page_content='future outcomes. With AI, machines can now understand and process large datasets, automate repetitive tasks, and provide intelligent insights. Exploring Azure's various services like Machine Learning, Natural Language Processing, and Computer Vision, I was able to craft solutions that streamline processes and enhance decision-making. The future of AI is bright, and Microsoft Azure makes it accessible to all.'\n"
     ]
    }
   ],
   "source": [
    "print(text[1])"
   ]
  },
  {
   "cell_type": "code",
   "execution_count": 14,
   "id": "2758f1e1",
   "metadata": {},
   "outputs": [
    {
     "data": {
      "text/plain": [
       "10"
      ]
     },
     "execution_count": 14,
     "metadata": {},
     "output_type": "execute_result"
    }
   ],
   "source": [
    "len(text)"
   ]
  },
  {
   "cell_type": "code",
   "execution_count": null,
   "id": "42a2485b",
   "metadata": {},
   "outputs": [],
   "source": []
  }
 ],
 "metadata": {
  "kernelspec": {
   "display_name": "lang_venv",
   "language": "python",
   "name": "python3"
  },
  "language_info": {
   "codemirror_mode": {
    "name": "ipython",
    "version": 3
   },
   "file_extension": ".py",
   "mimetype": "text/x-python",
   "name": "python",
   "nbconvert_exporter": "python",
   "pygments_lexer": "ipython3",
   "version": "3.10.16"
  }
 },
 "nbformat": 4,
 "nbformat_minor": 5
}
