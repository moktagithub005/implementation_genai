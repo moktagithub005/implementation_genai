{
 "cells": [
  {
   "cell_type": "code",
   "execution_count": 1,
   "id": "af5f8e4e",
   "metadata": {},
   "outputs": [],
   "source": [
    "from langchain_community.document_loaders import TextLoader"
   ]
  },
  {
   "cell_type": "code",
   "execution_count": 2,
   "id": "4b83d85d",
   "metadata": {},
   "outputs": [],
   "source": [
    "loader=TextLoader(\"muskan.txt\")\n",
    "text_doc=loader.load()"
   ]
  },
  {
   "cell_type": "code",
   "execution_count": 3,
   "id": "9a3a1baa",
   "metadata": {},
   "outputs": [
    {
     "name": "stdout",
     "output_type": "stream",
     "text": [
      "[Document(metadata={'source': 'muskan.txt'}, page_content=\"Artificial Intelligence (AI) has always been a field that captivated me with its endless possibilities. From transforming industries to improving daily life, AI stands at the forefront of technological innovation. My journey began when Ashmit JaiSarita Gupta sir introduced me to Microsoft Azure's AI tools. Azure’s intuitive interface and powerful services allowed me to create AI-driven applications that automate tasks, analyze data, and even predict future outcomes. With AI, machines can now understand and process large datasets, automate repetitive tasks, and provide intelligent insights. Exploring Azure's various services like Machine Learning, Natural Language Processing, and Computer Vision, I was able to craft solutions that streamline processes and enhance decision-making. The future of AI is bright, and Microsoft Azure makes it accessible to all.\")]\n"
     ]
    }
   ],
   "source": [
    "print(text_doc)"
   ]
  },
  {
   "cell_type": "code",
   "execution_count": null,
   "id": "d09c6e4d",
   "metadata": {},
   "outputs": [],
   "source": []
  }
 ],
 "metadata": {
  "kernelspec": {
   "display_name": "lang_venv",
   "language": "python",
   "name": "python3"
  },
  "language_info": {
   "codemirror_mode": {
    "name": "ipython",
    "version": 3
   },
   "file_extension": ".py",
   "mimetype": "text/x-python",
   "name": "python",
   "nbconvert_exporter": "python",
   "pygments_lexer": "ipython3",
   "version": "3.10.16"
  }
 },
 "nbformat": 4,
 "nbformat_minor": 5
}
